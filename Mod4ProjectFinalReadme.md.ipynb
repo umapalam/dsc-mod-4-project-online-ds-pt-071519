{
 "cells": [
  {
   "cell_type": "markdown",
   "metadata": {},
   "source": [
    "# Module 4 Final Project Outline\n",
    "\n",
    "## Background \n",
    "\n",
    "The company, Mercury, is interested in presenting the top five zipcodes for their prospective house buyers. The goal is to find areas within the southern region of the United States. Research shows that those areas have strong growth, price wise and would be a good choice for buyers needing a return on investment. \n",
    "\n",
    "## Data Analysis \n",
    "\n",
    "We will be using time series data in order to narrow down and analyze specific areas through Sarima modeling. Zillow will provide the raw data. This data will be cleaned, filtered and manipulated so as to find the best zipcodes within two states, Florida and North Carolina. The data will be analyzed from the year 2009 to 2018 so as to avoid the recession having an impact on the data. \n",
    "\n",
    "## Method\n",
    "\n",
    "1. Libraries are imported \n",
    "2. Data is loaded and cleaned\n",
    "3. Data is filtered to cities Orlando and Raleigh \n",
    "4. Seperate dataframes are made for each city\n",
    "5. The data is converted to a time series with the use of the melt_data function\n",
    "6. Exploring the data with visualizations for each city\n",
    "7. Train and test the data \n",
    "8. Determine stationarity and seasonality - see if there are trends within the data\n",
    "9. Analyse rolling mean and dickey-fuller test results \n",
    "10. Plot Autocorrelation - find out lag (acf, pacf) \n",
    "11. Go on to Sarimax and Sarima modeling - Sarima takes care of seasonality\n",
    "12. Model Orlando, Florida zipcodes \n",
    "13. Model Raleigh, North Carolina zipcodes \n",
    "14. RMSE results and compare\n",
    "15. Put each cities zipcodes in a dictionary where the zipcodes are the keys\n",
    "16. Model the home value of each zipcode \n",
    "17. Define function to filter top 5 zipcodes for two year return on investment\n",
    "18. Choose the top three zipcodes from Orlando and the top two zipcodes for Raleigh\n",
    "19. Present final five zipcodes in conclusion along with a recommendation for improvement on results \n",
    "\n",
    "## Libraries \n",
    "\n",
    "Used for data manipulation: \n",
    "- Pandas \n",
    "- Ast \n",
    "- Numpy\n",
    "- Itertools\n",
    "- Statsmodels \n",
    "- Sklearn\n",
    "Used for data visualization: \n",
    "- Matplotlib\n",
    "- Seaborn\n",
    "- Plotly \n"
   ]
  },
  {
   "cell_type": "code",
   "execution_count": null,
   "metadata": {},
   "outputs": [],
   "source": []
  }
 ],
 "metadata": {
  "kernelspec": {
   "display_name": "learn-env",
   "language": "python",
   "name": "learn-env"
  },
  "language_info": {
   "codemirror_mode": {
    "name": "ipython",
    "version": 3
   },
   "file_extension": ".py",
   "mimetype": "text/x-python",
   "name": "python",
   "nbconvert_exporter": "python",
   "pygments_lexer": "ipython3",
   "version": "3.6.6"
  }
 },
 "nbformat": 4,
 "nbformat_minor": 2
}
